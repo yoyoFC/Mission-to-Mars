{
 "cells": [
  {
   "cell_type": "code",
   "execution_count": 1,
   "id": "b8d4b934-1068-45a2-9715-a83436bd3837",
   "metadata": {},
   "outputs": [],
   "source": [
    "# Import Splinter and BeautifulSoup\n",
    "from splinter import Browser\n",
    "from bs4 import BeautifulSoup as soup\n",
    "from webdriver_manager.chrome import ChromeDriverManager\n",
    "import pandas as pd"
   ]
  },
  {
   "cell_type": "code",
   "execution_count": 2,
   "id": "3a2c5e7a-eecc-4c7f-a648-f1f6cecd287f",
   "metadata": {},
   "outputs": [
    {
     "name": "stderr",
     "output_type": "stream",
     "text": [
      "[WDM] - \n",
      "\n",
      "[WDM] - ====== WebDriver manager ======\n",
      "[WDM] - Current google-chrome version is 95.0.4638\n",
      "[WDM] - Get LATEST driver version for 95.0.4638\n",
      "[WDM] - Get LATEST driver version for 95.0.4638\n",
      "[WDM] - Trying to download new driver from https://chromedriver.storage.googleapis.com/95.0.4638.17/chromedriver_win32.zip\n",
      "[WDM] - Driver has been saved in cache [C:\\Users\\joelf\\.wdm\\drivers\\chromedriver\\win32\\95.0.4638.17]\n"
     ]
    }
   ],
   "source": [
    "executable_path = {'executable_path': ChromeDriverManager().install()}\n",
    "browser = Browser('chrome', **executable_path, headless=False)"
   ]
  },
  {
   "cell_type": "code",
   "execution_count": null,
   "id": "978d525a-fa47-4060-b9a0-ad0c3ec1da6f",
   "metadata": {},
   "outputs": [],
   "source": [
    "# Visit the mars nasa news site\n",
    "url = 'https://redplanetscience.com'\n",
    "browser.visit(url)\n",
    "# Optional delay for loading the page\n",
    "#asking at the same time if there is any list_text as tag on the webpage\n",
    "browser.is_element_present_by_css('div.list_text', wait_time=1)"
   ]
  },
  {
   "cell_type": "code",
   "execution_count": null,
   "id": "4d4c9567-6970-4762-b434-71cbe96beb49",
   "metadata": {},
   "outputs": [],
   "source": [
    "html = browser.html\n",
    "news_soup = soup(html, 'html.parser')\n",
    "slide_elem = news_soup.select_onene('div.list_text')"
   ]
  },
  {
   "cell_type": "code",
   "execution_count": null,
   "id": "77a8a117-c1e9-45aa-8bf8-68042cd37bbd",
   "metadata": {},
   "outputs": [],
   "source": [
    "slide_elem.find('div', class_='content_title')"
   ]
  },
  {
   "cell_type": "code",
   "execution_count": null,
   "id": "08c723ee-4788-4667-b950-00119927bf99",
   "metadata": {},
   "outputs": [],
   "source": [
    "# Use the parent element to find the first `a` tag and save it as `news_title`\n",
    "news_title = slide_elem.find('div', class_='content_title').get_text()\n",
    "news_title"
   ]
  },
  {
   "cell_type": "code",
   "execution_count": null,
   "id": "82817ae5-2208-40c1-b534-33f2b4bb68ff",
   "metadata": {},
   "outputs": [],
   "source": [
    "# Use the parent element to find the paragraph text\n",
    "news_p = slide_elem.find('div', class_='article_teaser_body').get_text()\n",
    "news_p"
   ]
  },
  {
   "cell_type": "markdown",
   "id": "c8ff1b21-8612-4583-820b-abc305b983b1",
   "metadata": {},
   "source": [
    "###Features Images"
   ]
  },
  {
   "cell_type": "code",
   "execution_count": null,
   "id": "03c8c48a-3bd5-4e77-bba2-32516a98a1e0",
   "metadata": {},
   "outputs": [],
   "source": [
    "# Visit URL\n",
    "url = 'https://spaceimages-mars.com'\n",
    "browser.visit(url)"
   ]
  },
  {
   "cell_type": "code",
   "execution_count": null,
   "id": "58c24b2f-4be1-47ad-8a51-88bc83743d73",
   "metadata": {},
   "outputs": [],
   "source": [
    "# Find and click the full image button\n",
    "#The instruction from the development mode is :\n",
    "#<button class=\"btn btn-outline-light\"> FULL IMMAGE</button>\n",
    "#this command was execute directly from \"browser\" property\n",
    "full_image_elem = browser.find_by_tag('button')[1]\n",
    "full_image_elem.click()"
   ]
  },
  {
   "cell_type": "code",
   "execution_count": null,
   "id": "e3cd47ed-dfba-4d57-98d2-0783ae57838b",
   "metadata": {},
   "outputs": [],
   "source": [
    "# Parse the resulting html with soup\n",
    "html = browser.html\n",
    "img_soup = soup(html, 'html.parser')"
   ]
  },
  {
   "cell_type": "code",
   "execution_count": null,
   "id": "f0824646-82cf-464e-816a-2c94546fb9df",
   "metadata": {},
   "outputs": [],
   "source": [
    "# Find the relative image url\n",
    "img_url_rel = img_soup.find('img', class_='fancybox-image').get('src')\n",
    "img_url_rel"
   ]
  },
  {
   "cell_type": "code",
   "execution_count": null,
   "id": "9c743778-2b14-4b21-86b5-f9522f3b3919",
   "metadata": {},
   "outputs": [],
   "source": [
    "# Use the base URL to create an absolute URL\n",
    "img_url = f'https://spaceimages-mars.com/{img_url_rel}'\n",
    "img_url"
   ]
  },
  {
   "cell_type": "code",
   "execution_count": null,
   "id": "e8226053-2d73-450b-907e-0e737897a42a",
   "metadata": {},
   "outputs": [],
   "source": [
    "df = pd.read_html('https://galaxyfacts-mars.com')[0]\n",
    "df.columns=['description', 'Mars', 'Earth']\n",
    "df.set_index('description', inplace=True)\n",
    "df"
   ]
  },
  {
   "cell_type": "code",
   "execution_count": null,
   "id": "6dfb458f-503e-4de7-9627-47bcea1e7edf",
   "metadata": {},
   "outputs": [],
   "source": [
    "df.to_html()"
   ]
  },
  {
   "cell_type": "markdown",
   "id": "83bdc773-0c7d-4422-b188-12fa906c4077",
   "metadata": {},
   "source": [
    "# Scrape High-Resolution Mars Hemisphere Images and Titles"
   ]
  },
  {
   "cell_type": "code",
   "execution_count": 3,
   "id": "b3630db2-be45-4c03-9140-680bfc0b19ab",
   "metadata": {},
   "outputs": [],
   "source": [
    "# 1. Use browser to visit the URL \n",
    "url = 'https://marshemispheres.com/'\n",
    "browser.visit(url)\n",
    "html = browser.html\n",
    "img_soup = soup(html,'html.parser')"
   ]
  },
  {
   "cell_type": "code",
   "execution_count": 5,
   "id": "00f9edba-c50c-4312-9de1-4a54da1034e8",
   "metadata": {},
   "outputs": [],
   "source": [
    "# 2. Create a list to hold the images and titles.\n",
    "hemisphere_image_urls = []\n",
    "\n",
    "#3. Write code to retrieve the image urls and titles for each hemisphere.\n",
    "i=0\n",
    "sections = img_soup.find_all('div',class_='item')\n",
    "for i in range(4):\n",
    "    \n",
    "    html = browser.html\n",
    "    img_soup = soup(html,'html.parser')\n",
    "    \n",
    "    #click based on h3 tag \n",
    "    url = browser.find_by_tag('h3')[i]\n",
    "    url.click()\n",
    "    \n",
    "    #visit section of the webpage\n",
    "    html = browser.html\n",
    "    img_soup = soup(html,'html.parser')\n",
    "    \n",
    "    #extract title\n",
    "    titulo = img_soup.find('h2', class_='title').text\n",
    "    image = img_soup.find(\"div\",class_=\"downloads\")\n",
    "    imagen = image.a['href']\n",
    "    imagen_url = f'http://marshemisphere.com/{imagen}'\n",
    "    \n",
    "    Mars_temp = {\n",
    "                  'img_url':imagen_url,\n",
    "                  'title':titulo\n",
    "                }\n",
    "    \n",
    "    #print(f'{titulo} {imagen_url}')\n",
    "    \n",
    "    hemisphere_image_urls.append(Mars_temp)\n",
    "    \n",
    "    browser.back()"
   ]
  },
  {
   "cell_type": "code",
   "execution_count": 6,
   "id": "47842544-0e19-4cfc-a3ac-c8e019ee53bb",
   "metadata": {},
   "outputs": [
    {
     "data": {
      "text/plain": [
       "[{'img_url': 'http://marshemisphere.com/images/full.jpg',\n",
       "  'title': 'Cerberus Hemisphere Enhanced'},\n",
       " {'img_url': 'http://marshemisphere.com/images/schiaparelli_enhanced-full.jpg',\n",
       "  'title': 'Schiaparelli Hemisphere Enhanced'},\n",
       " {'img_url': 'http://marshemisphere.com/images/syrtis_major_enhanced-full.jpg',\n",
       "  'title': 'Syrtis Major Hemisphere Enhanced'},\n",
       " {'img_url': 'http://marshemisphere.com/images/valles_marineris_enhanced-full.jpg',\n",
       "  'title': 'Valles Marineris Hemisphere Enhanced'}]"
      ]
     },
     "execution_count": 6,
     "metadata": {},
     "output_type": "execute_result"
    }
   ],
   "source": [
    "# 4. Print the list that holds the dictionary of each image url and title.\n",
    "hemisphere_image_urls"
   ]
  },
  {
   "cell_type": "code",
   "execution_count": null,
   "id": "b7f6e03a-f6da-4d7b-b570-2cea316c87fe",
   "metadata": {},
   "outputs": [],
   "source": [
    "# 5. Quit the browser\n",
    "browser.quit()"
   ]
  }
 ],
 "metadata": {
  "kernelspec": {
   "display_name": "PythonData",
   "language": "python",
   "name": "pythondata"
  },
  "language_info": {
   "codemirror_mode": {
    "name": "ipython",
    "version": 3
   },
   "file_extension": ".py",
   "mimetype": "text/x-python",
   "name": "python",
   "nbconvert_exporter": "python",
   "pygments_lexer": "ipython3",
   "version": "3.7.10"
  }
 },
 "nbformat": 4,
 "nbformat_minor": 5
}
